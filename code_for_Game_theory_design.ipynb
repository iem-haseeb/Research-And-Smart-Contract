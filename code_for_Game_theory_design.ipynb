{
  "nbformat": 4,
  "nbformat_minor": 0,
  "metadata": {
    "colab": {
      "provenance": []
    },
    "kernelspec": {
      "name": "python3",
      "display_name": "Python 3"
    },
    "language_info": {
      "name": "python"
    }
  },
  "cells": [
    {
      "cell_type": "code",
      "execution_count": 8,
      "metadata": {
        "colab": {
          "base_uri": "https://localhost:8080/"
        },
        "id": "OtnFRaS7iDtL",
        "outputId": "e62361c4-2f7b-478b-b2c3-28f02ddc9d42"
      },
      "outputs": [
        {
          "output_type": "stream",
          "name": "stdout",
          "text": [
            "Initialized Weights: [44.78056325462369, 42.39334521627789, 32.365394900357316, 45.11426174702415, 25.918867205226675]\n",
            "Initialized Rho: 0.7399433419622771\n",
            "User Features: [[4], [1, 9, 7], [5], [2, 7, 3, 1, 4], [1, 9, 2, 7, 4]]\n",
            "System Features: [[1, 2, 6], [4, 1, 9, 7], [3, 2, 7, 6], [3, 5], [6]]\n",
            "Final Decision Value: 179.6937308154806\n"
          ]
        },
        {
          "output_type": "execute_result",
          "data": {
            "text/plain": [
              "179.6937308154806"
            ]
          },
          "metadata": {},
          "execution_count": 8
        }
      ],
      "source": [
        "import random\n",
        "\n",
        "class UtilityCalculationAlgorithm:\n",
        "    def __init__(self, wp_range, rho_range, num_features, feature_value_range):\n",
        "        self.wp_range = wp_range  # Tuple (min_wp, max_wp) for random weight generation\n",
        "        self.rho_range = rho_range  # Tuple (min_rho, max_rho) for random rho factor generation\n",
        "        self.num_features = num_features  # Number of features\n",
        "        self.feature_value_range = feature_value_range  # Tuple (min_value, max_value) for feature values\n",
        "\n",
        "        # Initialize the user and system feature lists\n",
        "        self.user_features = []\n",
        "        self.system_features = []\n",
        "\n",
        "        self.wp = None  # Feature weight for the user\n",
        "        self.rho = None  # Weight factor\n",
        "        self.utility_values = []\n",
        "\n",
        "    def initialize_weights(self):\n",
        "        # Define random weights for each feature within a given range\n",
        "        self.wp = [random.uniform(self.wp_range[0], self.wp_range[1]) for _ in range(self.num_features)]\n",
        "        self.rho = random.uniform(self.rho_range[0], self.rho_range[1])  # Random rho value\n",
        "        print(f\"Initialized Weights: {self.wp}\")\n",
        "        print(f\"Initialized Rho: {self.rho}\")\n",
        "\n",
        "    def input_features(self):\n",
        "        # Generate random feature values for the user and system within a given value range\n",
        "        self.user_features = [random.sample(range(self.feature_value_range[0], self.feature_value_range[1]), random.randint(1, 5)) for _ in range(self.num_features)]\n",
        "        self.system_features = [random.sample(range(self.feature_value_range[0], self.feature_value_range[1]), random.randint(1, 5)) for _ in range(self.num_features)]\n",
        "\n",
        "        print(f\"User Features: {self.user_features}\")\n",
        "        print(f\"System Features: {self.system_features}\")\n",
        "\n",
        "    def intersection_calculation(self):\n",
        "        # Calculate the intersection of the user feature and system feature for each feature\n",
        "        self.intersections = []\n",
        "        for i in range(len(self.user_features)):\n",
        "            vi = self.user_features[i]\n",
        "            vj = self.system_features[i]\n",
        "            intersection = set(vi).intersection(set(vj))\n",
        "            self.intersections.append(intersection)\n",
        "\n",
        "    def utility_calculation(self):\n",
        "        # Calculate the utility value for each feature\n",
        "        self.utility_values = []\n",
        "        for i in range(len(self.user_features)):\n",
        "            intersection = self.intersections[i]\n",
        "            wt = self.wp[i] + self.rho * len(intersection)  # Calculate the weight for the feature\n",
        "            ui = len(intersection) * wt  # Utility value for this feature\n",
        "            self.utility_values.append(ui)\n",
        "\n",
        "    def sum_utility_values(self):\n",
        "        # Sum the utility values for all features to get the final decision value\n",
        "        self.final_decision_value = sum(self.utility_values)\n",
        "\n",
        "    def output_decision_value(self):\n",
        "        # Display the final decision value\n",
        "        print(f\"Final Decision Value: {self.final_decision_value}\")\n",
        "        return self.final_decision_value\n",
        "\n",
        "    def execute_algorithm(self):\n",
        "        self.initialize_weights()\n",
        "        self.input_features()\n",
        "        self.intersection_calculation()\n",
        "        self.utility_calculation()\n",
        "        self.sum_utility_values()\n",
        "        return self.output_decision_value()\n",
        "\n",
        "\n",
        "# Example usage:\n",
        "\n",
        "# Define the range for feature weights wp, weight factor rho, and feature values\n",
        "wp_range = (25, 50)  # Random weights between 0.1 and 1.0\n",
        "rho_range = (0,1)  # Random rho between 0.5 and 2.0\n",
        "num_features = 5  # Number of features\n",
        "feature_value_range = (1, 10)  # Feature values range from 1 to 10\n",
        "\n",
        "# Initialize the algorithm\n",
        "algorithm = UtilityCalculationAlgorithm(wp_range, rho_range, num_features, feature_value_range)\n",
        "\n",
        "# Execute the algorithm and get the final decision value\n",
        "algorithm.execute_algorithm()\n"
      ]
    },
    {
      "cell_type": "code",
      "source": [],
      "metadata": {
        "id": "M0ntDscAiIl9"
      },
      "execution_count": null,
      "outputs": []
    }
  ]
}